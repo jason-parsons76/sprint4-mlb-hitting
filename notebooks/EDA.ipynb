{
 "cells": [
  {
   "cell_type": "code",
   "execution_count": 2,
   "metadata": {},
   "outputs": [],
   "source": [
    "import pandas as pd\n",
    "import streamlit as st\n"
   ]
  },
  {
   "cell_type": "code",
   "execution_count": 3,
   "metadata": {},
   "outputs": [],
   "source": [
    "df = pd.read_csv('~/downloads/baseball_hitting.csv')"
   ]
  },
  {
   "cell_type": "code",
   "execution_count": 4,
   "metadata": {},
   "outputs": [
    {
     "name": "stdout",
     "output_type": "stream",
     "text": [
      "      Player name position   Games  At-bat    Runs    Hits  Double (2B)  \\\n",
      "1412   A Phillips       CF   649.0  1875.0   270.0   463.0         86.0   \n",
      "228   D Mattingly       1B  1785.0  7003.0  1007.0  2153.0        442.0   \n",
      "295       R White       LF  1474.0  5357.0   756.0  1519.0        296.0   \n",
      "1522     M Margot       RF   691.0  2306.0   276.0   585.0        112.0   \n",
      "1963     J Tinker       SS  1652.0  6434.0   774.0  1687.0        263.0   \n",
      "\n",
      "      third baseman  home run  run batted in  a walk Strikeouts  stolen base   \\\n",
      "1412           21.0      59.0          173.0   251.0        485          82.0   \n",
      "228            20.0     222.0         1099.0   588.0        444          14.0   \n",
      "295            34.0     198.0          768.0   360.0        925          94.0   \n",
      "1522           24.0      48.0          245.0   179.0        454          82.0   \n",
      "1963          114.0      31.0          782.0   416.0        149         336.0   \n",
      "\n",
      "     Caught stealing    AVG  On-base Percentage  Slugging Percentage  \\\n",
      "1412              44  0.247               0.343                0.410   \n",
      "228                9  0.307               0.358                0.471   \n",
      "295               47  0.284               0.336                0.462   \n",
      "1522              36  0.254               0.308                0.386   \n",
      "1963              --  0.262               0.308                0.353   \n",
      "\n",
      "      On-base Plus Slugging  \n",
      "1412                  0.753  \n",
      "228                   0.829  \n",
      "295                   0.798  \n",
      "1522                  0.694  \n",
      "1963                  0.661  \n"
     ]
    }
   ],
   "source": [
    "print(df.sample(5))"
   ]
  },
  {
   "cell_type": "code",
   "execution_count": 5,
   "metadata": {},
   "outputs": [],
   "source": [
    "df = df.rename(columns ={'Player name' : 'player_name', 'At-bat' : 'at_bats', 'Games' : 'games', 'Runs' : 'runs', 'Hits' : 'hits', 'Double (2B)' : 'doubles', 'third baseman' : 'triples', 'home run': 'home_runs',\n",
    "'run batted in' : 'RBI', 'a walk' : 'walks', 'Strikeouts' : 'strikeouts', 'stolen base' : 'stolen_bases', 'Caught stealing' : 'caught_stealing', 'On-base Percentage' : 'on_base_%', 'Slugging Percentage' : 'slugging_%',\n",
    "'On-base Plus Slugging' : 'OPS'})"
   ]
  },
  {
   "cell_type": "code",
   "execution_count": 6,
   "metadata": {},
   "outputs": [
    {
     "name": "stdout",
     "output_type": "stream",
     "text": [
      "<class 'pandas.core.frame.DataFrame'>\n",
      "RangeIndex: 2508 entries, 0 to 2507\n",
      "Data columns (total 18 columns):\n",
      " #   Column           Non-Null Count  Dtype  \n",
      "---  ------           --------------  -----  \n",
      " 0   player_name      2500 non-null   object \n",
      " 1   position         2500 non-null   object \n",
      " 2   games            2500 non-null   float64\n",
      " 3   at_bats          2500 non-null   float64\n",
      " 4   runs             2500 non-null   float64\n",
      " 5   hits             2500 non-null   float64\n",
      " 6   doubles          2500 non-null   float64\n",
      " 7   triples          2500 non-null   float64\n",
      " 8   home_runs        2500 non-null   float64\n",
      " 9   RBI              2500 non-null   float64\n",
      " 10  walks            2500 non-null   float64\n",
      " 11  strikeouts       2500 non-null   object \n",
      " 12  stolen base      2500 non-null   float64\n",
      " 13  caught_stealing  2500 non-null   object \n",
      " 14  AVG              2500 non-null   float64\n",
      " 15  on_base_%        2500 non-null   float64\n",
      " 16  slugging_%       2500 non-null   float64\n",
      " 17  OPS              2488 non-null   float64\n",
      "dtypes: float64(14), object(4)\n",
      "memory usage: 352.8+ KB\n"
     ]
    }
   ],
   "source": [
    "df.sample(5)\n",
    "df.info()"
   ]
  },
  {
   "cell_type": "code",
   "execution_count": 7,
   "metadata": {},
   "outputs": [
    {
     "name": "stdout",
     "output_type": "stream",
     "text": [
      "<class 'pandas.core.frame.DataFrame'>\n",
      "Int64Index: 2488 entries, 0 to 2507\n",
      "Data columns (total 18 columns):\n",
      " #   Column           Non-Null Count  Dtype  \n",
      "---  ------           --------------  -----  \n",
      " 0   player_name      2488 non-null   object \n",
      " 1   position         2488 non-null   object \n",
      " 2   games            2488 non-null   float64\n",
      " 3   at_bats          2488 non-null   float64\n",
      " 4   runs             2488 non-null   float64\n",
      " 5   hits             2488 non-null   float64\n",
      " 6   doubles          2488 non-null   float64\n",
      " 7   triples          2488 non-null   float64\n",
      " 8   home_runs        2488 non-null   float64\n",
      " 9   RBI              2488 non-null   float64\n",
      " 10  walks            2488 non-null   float64\n",
      " 11  strikeouts       2488 non-null   object \n",
      " 12  stolen base      2488 non-null   float64\n",
      " 13  caught_stealing  2488 non-null   object \n",
      " 14  AVG              2488 non-null   float64\n",
      " 15  on_base_%        2488 non-null   float64\n",
      " 16  slugging_%       2488 non-null   float64\n",
      " 17  OPS              2488 non-null   float64\n",
      "dtypes: float64(14), object(4)\n",
      "memory usage: 369.3+ KB\n"
     ]
    }
   ],
   "source": [
    "df.sample(25)\n",
    "df = df.dropna()\n",
    "df.info()"
   ]
  },
  {
   "cell_type": "code",
   "execution_count": 8,
   "metadata": {},
   "outputs": [],
   "source": [
    "import plotly.express as px"
   ]
  },
  {
   "cell_type": "code",
   "execution_count": 9,
   "metadata": {},
   "outputs": [
    {
     "name": "stderr",
     "output_type": "stream",
     "text": [
      "2023-04-17 14:17:38.886 \n",
      "  \u001b[33m\u001b[1mWarning:\u001b[0m to view this Streamlit app on a browser, run it with the following\n",
      "  command:\n",
      "\n",
      "    streamlit run c:\\Users\\jason_ef59wex\\anaconda3\\envs\\myenv\\lib\\site-packages\\ipykernel_launcher.py [ARGUMENTS]\n"
     ]
    },
    {
     "data": {
      "text/plain": [
       "DeltaGenerator()"
      ]
     },
     "execution_count": 9,
     "metadata": {},
     "output_type": "execute_result"
    }
   ],
   "source": [
    "st.header('This shows hitting stats throughout Mlb history')"
   ]
  },
  {
   "cell_type": "code",
   "execution_count": null,
   "metadata": {},
   "outputs": [
    {
     "data": {
      "text/plain": [
       "DeltaGenerator(_root_container=0, _provided_cursor=None, _parent=None, _block_type=None, _form_data=None)"
      ]
     },
     "execution_count": 33,
     "metadata": {},
     "output_type": "execute_result"
    }
   ],
   "source": [
    "fig = px.histogram(df, x='double', color ='position')\n",
    "st.plotly_chart(fig, theme='streamlit', use_container_width=True)\n"
   ]
  },
  {
   "cell_type": "code",
   "execution_count": 12,
   "metadata": {},
   "outputs": [
    {
     "name": "stdout",
     "output_type": "stream",
     "text": [
      "<class 'pandas.core.frame.DataFrame'>\n",
      "Int64Index: 2488 entries, 0 to 2507\n",
      "Data columns (total 18 columns):\n",
      " #   Column           Non-Null Count  Dtype  \n",
      "---  ------           --------------  -----  \n",
      " 0   player_name      2488 non-null   object \n",
      " 1   position         2488 non-null   object \n",
      " 2   games            2488 non-null   float64\n",
      " 3   at_bats          2488 non-null   float64\n",
      " 4   runs             2488 non-null   float64\n",
      " 5   hits             2488 non-null   float64\n",
      " 6   doubles          2488 non-null   float64\n",
      " 7   triples          2488 non-null   float64\n",
      " 8   home_runs        2488 non-null   float64\n",
      " 9   RBI              2488 non-null   float64\n",
      " 10  walks            2488 non-null   float64\n",
      " 11  strikeouts       2488 non-null   object \n",
      " 12  stolen base      2488 non-null   float64\n",
      " 13  caught_stealing  2488 non-null   object \n",
      " 14  AVG              2488 non-null   float64\n",
      " 15  on_base_%        2488 non-null   float64\n",
      " 16  slugging_%       2488 non-null   float64\n",
      " 17  OPS              2488 non-null   float64\n",
      "dtypes: float64(14), object(4)\n",
      "memory usage: 369.3+ KB\n"
     ]
    }
   ],
   "source": [
    "df.info(\n",
    "    \n",
    ")"
   ]
  },
  {
   "cell_type": "code",
   "execution_count": 16,
   "metadata": {},
   "outputs": [
    {
     "name": "stdout",
     "output_type": "stream",
     "text": [
      "<class 'pandas.core.frame.DataFrame'>\n",
      "Int64Index: 2488 entries, 0 to 2507\n",
      "Data columns (total 18 columns):\n",
      " #   Column           Non-Null Count  Dtype  \n",
      "---  ------           --------------  -----  \n",
      " 0   player_name      2488 non-null   object \n",
      " 1   position         2488 non-null   object \n",
      " 2   games            2488 non-null   float64\n",
      " 3   at_bats          2488 non-null   float64\n",
      " 4   runs             2488 non-null   float64\n",
      " 5   hits             2488 non-null   float64\n",
      " 6   doubles          2488 non-null   float64\n",
      " 7   triples          2488 non-null   float64\n",
      " 8   home_runs        2488 non-null   float64\n",
      " 9   RBI              2488 non-null   float64\n",
      " 10  walks            2488 non-null   float64\n",
      " 11  strikeouts       2488 non-null   int32  \n",
      " 12  stolen base      2488 non-null   float64\n",
      " 13  caught_stealing  2488 non-null   object \n",
      " 14  AVG              2488 non-null   float64\n",
      " 15  on_base_%        2488 non-null   float64\n",
      " 16  slugging_%       2488 non-null   float64\n",
      " 17  OPS              2488 non-null   float64\n",
      "dtypes: float64(14), int32(1), object(3)\n",
      "memory usage: 359.6+ KB\n"
     ]
    }
   ],
   "source": [
    "df['strikeouts'] = df['strikeouts'].astype('int')\n",
    "df.info()"
   ]
  },
  {
   "cell_type": "code",
   "execution_count": 18,
   "metadata": {},
   "outputs": [
    {
     "data": {
      "text/html": [
       "<div>\n",
       "<style scoped>\n",
       "    .dataframe tbody tr th:only-of-type {\n",
       "        vertical-align: middle;\n",
       "    }\n",
       "\n",
       "    .dataframe tbody tr th {\n",
       "        vertical-align: top;\n",
       "    }\n",
       "\n",
       "    .dataframe thead th {\n",
       "        text-align: right;\n",
       "    }\n",
       "</style>\n",
       "<table border=\"1\" class=\"dataframe\">\n",
       "  <thead>\n",
       "    <tr style=\"text-align: right;\">\n",
       "      <th></th>\n",
       "      <th>player_name</th>\n",
       "      <th>position</th>\n",
       "      <th>games</th>\n",
       "      <th>at_bats</th>\n",
       "      <th>runs</th>\n",
       "      <th>hits</th>\n",
       "      <th>doubles</th>\n",
       "      <th>triples</th>\n",
       "      <th>home_runs</th>\n",
       "      <th>RBI</th>\n",
       "      <th>walks</th>\n",
       "      <th>strikeouts</th>\n",
       "      <th>stolen base</th>\n",
       "      <th>caught_stealing</th>\n",
       "      <th>AVG</th>\n",
       "      <th>on_base_%</th>\n",
       "      <th>slugging_%</th>\n",
       "      <th>OPS</th>\n",
       "    </tr>\n",
       "  </thead>\n",
       "  <tbody>\n",
       "    <tr>\n",
       "      <th>840</th>\n",
       "      <td>M DeRosa</td>\n",
       "      <td>3B</td>\n",
       "      <td>1241.0</td>\n",
       "      <td>3633.0</td>\n",
       "      <td>538.0</td>\n",
       "      <td>975.0</td>\n",
       "      <td>196.0</td>\n",
       "      <td>12.0</td>\n",
       "      <td>100.0</td>\n",
       "      <td>494.0</td>\n",
       "      <td>358.0</td>\n",
       "      <td>707</td>\n",
       "      <td>23.0</td>\n",
       "      <td>18</td>\n",
       "      <td>0.268</td>\n",
       "      <td>0.340</td>\n",
       "      <td>0.412</td>\n",
       "      <td>0.752</td>\n",
       "    </tr>\n",
       "    <tr>\n",
       "      <th>307</th>\n",
       "      <td>J Bell</td>\n",
       "      <td>SS</td>\n",
       "      <td>2063.0</td>\n",
       "      <td>7398.0</td>\n",
       "      <td>1123.0</td>\n",
       "      <td>1963.0</td>\n",
       "      <td>394.0</td>\n",
       "      <td>67.0</td>\n",
       "      <td>195.0</td>\n",
       "      <td>860.0</td>\n",
       "      <td>853.0</td>\n",
       "      <td>1443</td>\n",
       "      <td>91.0</td>\n",
       "      <td>60</td>\n",
       "      <td>0.265</td>\n",
       "      <td>0.343</td>\n",
       "      <td>0.416</td>\n",
       "      <td>0.759</td>\n",
       "    </tr>\n",
       "    <tr>\n",
       "      <th>656</th>\n",
       "      <td>B Jacoby</td>\n",
       "      <td>3B</td>\n",
       "      <td>1311.0</td>\n",
       "      <td>4520.0</td>\n",
       "      <td>535.0</td>\n",
       "      <td>1220.0</td>\n",
       "      <td>204.0</td>\n",
       "      <td>24.0</td>\n",
       "      <td>120.0</td>\n",
       "      <td>545.0</td>\n",
       "      <td>439.0</td>\n",
       "      <td>764</td>\n",
       "      <td>16.0</td>\n",
       "      <td>25</td>\n",
       "      <td>0.270</td>\n",
       "      <td>0.334</td>\n",
       "      <td>0.405</td>\n",
       "      <td>0.739</td>\n",
       "    </tr>\n",
       "    <tr>\n",
       "      <th>2068</th>\n",
       "      <td>J Hannahan</td>\n",
       "      <td>3B</td>\n",
       "      <td>614.0</td>\n",
       "      <td>1650.0</td>\n",
       "      <td>167.0</td>\n",
       "      <td>381.0</td>\n",
       "      <td>93.0</td>\n",
       "      <td>5.0</td>\n",
       "      <td>29.0</td>\n",
       "      <td>175.0</td>\n",
       "      <td>193.0</td>\n",
       "      <td>440</td>\n",
       "      <td>6.0</td>\n",
       "      <td>4</td>\n",
       "      <td>0.231</td>\n",
       "      <td>0.314</td>\n",
       "      <td>0.346</td>\n",
       "      <td>0.660</td>\n",
       "    </tr>\n",
       "    <tr>\n",
       "      <th>2306</th>\n",
       "      <td>G Beckert</td>\n",
       "      <td>2B</td>\n",
       "      <td>1320.0</td>\n",
       "      <td>5208.0</td>\n",
       "      <td>685.0</td>\n",
       "      <td>1473.0</td>\n",
       "      <td>196.0</td>\n",
       "      <td>31.0</td>\n",
       "      <td>22.0</td>\n",
       "      <td>360.0</td>\n",
       "      <td>260.0</td>\n",
       "      <td>243</td>\n",
       "      <td>49.0</td>\n",
       "      <td>25</td>\n",
       "      <td>0.283</td>\n",
       "      <td>0.318</td>\n",
       "      <td>0.345</td>\n",
       "      <td>0.663</td>\n",
       "    </tr>\n",
       "  </tbody>\n",
       "</table>\n",
       "</div>"
      ],
      "text/plain": [
       "     player_name position   games  at_bats    runs    hits  doubles  triples  \\\n",
       "840     M DeRosa       3B  1241.0   3633.0   538.0   975.0    196.0     12.0   \n",
       "307       J Bell       SS  2063.0   7398.0  1123.0  1963.0    394.0     67.0   \n",
       "656     B Jacoby       3B  1311.0   4520.0   535.0  1220.0    204.0     24.0   \n",
       "2068  J Hannahan       3B   614.0   1650.0   167.0   381.0     93.0      5.0   \n",
       "2306   G Beckert       2B  1320.0   5208.0   685.0  1473.0    196.0     31.0   \n",
       "\n",
       "      home_runs    RBI  walks  strikeouts  stolen base  caught_stealing  \\\n",
       "840       100.0  494.0  358.0         707          23.0              18   \n",
       "307       195.0  860.0  853.0        1443          91.0              60   \n",
       "656       120.0  545.0  439.0         764          16.0              25   \n",
       "2068       29.0  175.0  193.0         440           6.0               4   \n",
       "2306       22.0  360.0  260.0         243          49.0              25   \n",
       "\n",
       "        AVG  on_base_%  slugging_%    OPS  \n",
       "840   0.268      0.340       0.412  0.752  \n",
       "307   0.265      0.343       0.416  0.759  \n",
       "656   0.270      0.334       0.405  0.739  \n",
       "2068  0.231      0.314       0.346  0.660  \n",
       "2306  0.283      0.318       0.345  0.663  "
      ]
     },
     "execution_count": 18,
     "metadata": {},
     "output_type": "execute_result"
    }
   ],
   "source": [
    "df.sample(5)\n"
   ]
  }
 ],
 "metadata": {
  "kernelspec": {
   "display_name": "base",
   "language": "python",
   "name": "python3"
  },
  "language_info": {
   "codemirror_mode": {
    "name": "ipython",
    "version": 3
   },
   "file_extension": ".py",
   "mimetype": "text/x-python",
   "name": "python",
   "nbconvert_exporter": "python",
   "pygments_lexer": "ipython3",
   "version": "3.10.10"
  },
  "orig_nbformat": 4
 },
 "nbformat": 4,
 "nbformat_minor": 2
}
