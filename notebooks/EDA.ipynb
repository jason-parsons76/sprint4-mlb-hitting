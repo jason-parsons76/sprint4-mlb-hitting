{
 "cells": [
  {
   "cell_type": "code",
   "execution_count": 21,
   "metadata": {},
   "outputs": [],
   "source": [
    "import pandas as pd\n",
    "import streamlit as st\n"
   ]
  },
  {
   "cell_type": "code",
   "execution_count": 22,
   "metadata": {},
   "outputs": [],
   "source": [
    "df = pd.read_csv('C:/Users/jason_ef59wex/Projects/sprint4-mlb-hitting/baseball_hitting.csv')"
   ]
  },
  {
   "cell_type": "code",
   "execution_count": 23,
   "metadata": {},
   "outputs": [
    {
     "name": "stdout",
     "output_type": "stream",
     "text": [
      "       Player name position   Games  At-bat    Runs    Hits  Double (2B)  \\\n",
      "2064      J Tipton        C   417.0  1117.0   116.0   264.0         36.0   \n",
      "349      T Henrich       RF  1284.0  4603.0   901.0  1297.0        269.0   \n",
      "855       G Torres       2B   579.0  2108.0   293.0   558.0        100.0   \n",
      "1985  K Higashioka        C   223.0   620.0    71.0   124.0         25.0   \n",
      "86          J Mize       1B  1883.0  6443.0  1118.0  2011.0        367.0   \n",
      "\n",
      "      third baseman  home run  run batted in  a walk Strikeouts  stolen base   \\\n",
      "2064            5.0      29.0          125.0   186.0        142           3.0   \n",
      "349            73.0     183.0          795.0   712.0        383          37.0   \n",
      "855             2.0      99.0          312.0   203.0        513          38.0   \n",
      "1985            0.0      31.0           88.0    37.0        170           0.0   \n",
      "86             83.0     359.0         1337.0   856.0        524          28.0   \n",
      "\n",
      "     Caught stealing    AVG  On-base Percentage  Slugging Percentage  \\\n",
      "2064               3  0.236               0.351                0.355   \n",
      "349               19  0.282               0.382                0.491   \n",
      "855               15  0.265               0.331                0.455   \n",
      "1985               1  0.200               0.245                0.390   \n",
      "86                 1  0.312               0.397                0.562   \n",
      "\n",
      "      On-base Plus Slugging  \n",
      "2064                  0.706  \n",
      "349                   0.873  \n",
      "855                   0.786  \n",
      "1985                  0.635  \n",
      "86                    0.959  \n"
     ]
    }
   ],
   "source": [
    "print(df.sample(5))"
   ]
  },
  {
   "cell_type": "code",
   "execution_count": 24,
   "metadata": {},
   "outputs": [],
   "source": [
    "df = df.rename(columns ={'Player name' : 'player_name', 'At-bat' : 'at_bats', 'Games' : 'games', 'Runs' : 'runs', 'Hits' : 'hits', 'Double (2B)' : 'doubles', 'third baseman' : 'triples', 'home run': 'home_runs',\n",
    "'run batted in' : 'RBI', 'a walk' : 'walks', 'Strikeouts' : 'strikeouts', 'stolen base' : 'stolen_bases', 'Caught stealing' : 'caught_stealing', 'On-base Percentage' : 'on_base_%', 'Slugging Percentage' : 'slugging_%',\n",
    "'On-base Plus Slugging' : 'OPS'})"
   ]
  },
  {
   "cell_type": "code",
   "execution_count": 25,
   "metadata": {},
   "outputs": [
    {
     "name": "stdout",
     "output_type": "stream",
     "text": [
      "<class 'pandas.core.frame.DataFrame'>\n",
      "RangeIndex: 2508 entries, 0 to 2507\n",
      "Data columns (total 18 columns):\n",
      " #   Column           Non-Null Count  Dtype  \n",
      "---  ------           --------------  -----  \n",
      " 0   player_name      2500 non-null   object \n",
      " 1   position         2500 non-null   object \n",
      " 2   games            2500 non-null   float64\n",
      " 3   at_bats          2500 non-null   float64\n",
      " 4   runs             2500 non-null   float64\n",
      " 5   hits             2500 non-null   float64\n",
      " 6   doubles          2500 non-null   float64\n",
      " 7   triples          2500 non-null   float64\n",
      " 8   home_runs        2500 non-null   float64\n",
      " 9   RBI              2500 non-null   float64\n",
      " 10  walks            2500 non-null   float64\n",
      " 11  strikeouts       2500 non-null   object \n",
      " 12  stolen base      2500 non-null   float64\n",
      " 13  caught_stealing  2500 non-null   object \n",
      " 14  AVG              2500 non-null   float64\n",
      " 15  on_base_%        2500 non-null   float64\n",
      " 16  slugging_%       2500 non-null   float64\n",
      " 17  OPS              2488 non-null   float64\n",
      "dtypes: float64(14), object(4)\n",
      "memory usage: 352.8+ KB\n"
     ]
    }
   ],
   "source": [
    "df.sample(5)\n",
    "df.info()"
   ]
  },
  {
   "cell_type": "code",
   "execution_count": 26,
   "metadata": {},
   "outputs": [
    {
     "name": "stdout",
     "output_type": "stream",
     "text": [
      "<class 'pandas.core.frame.DataFrame'>\n",
      "Int64Index: 2488 entries, 0 to 2507\n",
      "Data columns (total 18 columns):\n",
      " #   Column           Non-Null Count  Dtype  \n",
      "---  ------           --------------  -----  \n",
      " 0   player_name      2488 non-null   object \n",
      " 1   position         2488 non-null   object \n",
      " 2   games            2488 non-null   float64\n",
      " 3   at_bats          2488 non-null   float64\n",
      " 4   runs             2488 non-null   float64\n",
      " 5   hits             2488 non-null   float64\n",
      " 6   doubles          2488 non-null   float64\n",
      " 7   triples          2488 non-null   float64\n",
      " 8   home_runs        2488 non-null   float64\n",
      " 9   RBI              2488 non-null   float64\n",
      " 10  walks            2488 non-null   float64\n",
      " 11  strikeouts       2488 non-null   object \n",
      " 12  stolen base      2488 non-null   float64\n",
      " 13  caught_stealing  2488 non-null   object \n",
      " 14  AVG              2488 non-null   float64\n",
      " 15  on_base_%        2488 non-null   float64\n",
      " 16  slugging_%       2488 non-null   float64\n",
      " 17  OPS              2488 non-null   float64\n",
      "dtypes: float64(14), object(4)\n",
      "memory usage: 369.3+ KB\n"
     ]
    }
   ],
   "source": [
    "df.sample(25)\n",
    "df = df.dropna()\n",
    "df.info()"
   ]
  },
  {
   "cell_type": "code",
   "execution_count": 27,
   "metadata": {},
   "outputs": [],
   "source": [
    "import plotly.express as px"
   ]
  },
  {
   "cell_type": "code",
   "execution_count": 28,
   "metadata": {},
   "outputs": [
    {
     "data": {
      "text/plain": [
       "DeltaGenerator()"
      ]
     },
     "execution_count": 28,
     "metadata": {},
     "output_type": "execute_result"
    }
   ],
   "source": [
    "st.header('This shows hitting stats throughout Mlb history')"
   ]
  },
  {
   "cell_type": "code",
   "execution_count": 29,
   "metadata": {},
   "outputs": [
    {
     "name": "stdout",
     "output_type": "stream",
     "text": [
      "<class 'pandas.core.frame.DataFrame'>\n",
      "Int64Index: 2488 entries, 0 to 2507\n",
      "Data columns (total 18 columns):\n",
      " #   Column           Non-Null Count  Dtype  \n",
      "---  ------           --------------  -----  \n",
      " 0   player_name      2488 non-null   object \n",
      " 1   position         2488 non-null   object \n",
      " 2   games            2488 non-null   float64\n",
      " 3   at_bats          2488 non-null   float64\n",
      " 4   runs             2488 non-null   float64\n",
      " 5   hits             2488 non-null   float64\n",
      " 6   doubles          2488 non-null   float64\n",
      " 7   triples          2488 non-null   float64\n",
      " 8   home_runs        2488 non-null   float64\n",
      " 9   RBI              2488 non-null   float64\n",
      " 10  walks            2488 non-null   float64\n",
      " 11  strikeouts       2488 non-null   object \n",
      " 12  stolen base      2488 non-null   float64\n",
      " 13  caught_stealing  2488 non-null   object \n",
      " 14  AVG              2488 non-null   float64\n",
      " 15  on_base_%        2488 non-null   float64\n",
      " 16  slugging_%       2488 non-null   float64\n",
      " 17  OPS              2488 non-null   float64\n",
      "dtypes: float64(14), object(4)\n",
      "memory usage: 369.3+ KB\n"
     ]
    }
   ],
   "source": [
    "df.info(\n",
    "    \n",
    ")"
   ]
  },
  {
   "cell_type": "code",
   "execution_count": 30,
   "metadata": {},
   "outputs": [
    {
     "name": "stdout",
     "output_type": "stream",
     "text": [
      "<class 'pandas.core.frame.DataFrame'>\n",
      "Int64Index: 2488 entries, 0 to 2507\n",
      "Data columns (total 18 columns):\n",
      " #   Column           Non-Null Count  Dtype  \n",
      "---  ------           --------------  -----  \n",
      " 0   player_name      2488 non-null   object \n",
      " 1   position         2488 non-null   object \n",
      " 2   games            2488 non-null   float64\n",
      " 3   at_bats          2488 non-null   float64\n",
      " 4   runs             2488 non-null   float64\n",
      " 5   hits             2488 non-null   float64\n",
      " 6   doubles          2488 non-null   float64\n",
      " 7   triples          2488 non-null   float64\n",
      " 8   home_runs        2488 non-null   float64\n",
      " 9   RBI              2488 non-null   float64\n",
      " 10  walks            2488 non-null   float64\n",
      " 11  strikeouts       2488 non-null   int32  \n",
      " 12  stolen base      2488 non-null   float64\n",
      " 13  caught_stealing  2488 non-null   object \n",
      " 14  AVG              2488 non-null   float64\n",
      " 15  on_base_%        2488 non-null   float64\n",
      " 16  slugging_%       2488 non-null   float64\n",
      " 17  OPS              2488 non-null   float64\n",
      "dtypes: float64(14), int32(1), object(3)\n",
      "memory usage: 359.6+ KB\n"
     ]
    }
   ],
   "source": [
    "df['strikeouts'] = df['strikeouts'].astype('int')\n",
    "df.info()"
   ]
  },
  {
   "cell_type": "code",
   "execution_count": 31,
   "metadata": {},
   "outputs": [
    {
     "data": {
      "text/html": [
       "<div>\n",
       "<style scoped>\n",
       "    .dataframe tbody tr th:only-of-type {\n",
       "        vertical-align: middle;\n",
       "    }\n",
       "\n",
       "    .dataframe tbody tr th {\n",
       "        vertical-align: top;\n",
       "    }\n",
       "\n",
       "    .dataframe thead th {\n",
       "        text-align: right;\n",
       "    }\n",
       "</style>\n",
       "<table border=\"1\" class=\"dataframe\">\n",
       "  <thead>\n",
       "    <tr style=\"text-align: right;\">\n",
       "      <th></th>\n",
       "      <th>player_name</th>\n",
       "      <th>position</th>\n",
       "      <th>games</th>\n",
       "      <th>at_bats</th>\n",
       "      <th>runs</th>\n",
       "      <th>hits</th>\n",
       "      <th>doubles</th>\n",
       "      <th>triples</th>\n",
       "      <th>home_runs</th>\n",
       "      <th>RBI</th>\n",
       "      <th>walks</th>\n",
       "      <th>strikeouts</th>\n",
       "      <th>stolen base</th>\n",
       "      <th>caught_stealing</th>\n",
       "      <th>AVG</th>\n",
       "      <th>on_base_%</th>\n",
       "      <th>slugging_%</th>\n",
       "      <th>OPS</th>\n",
       "    </tr>\n",
       "  </thead>\n",
       "  <tbody>\n",
       "    <tr>\n",
       "      <th>1230</th>\n",
       "      <td>A Simmons</td>\n",
       "      <td>SS</td>\n",
       "      <td>1226.0</td>\n",
       "      <td>4441.0</td>\n",
       "      <td>501.0</td>\n",
       "      <td>1169.0</td>\n",
       "      <td>201.0</td>\n",
       "      <td>23.0</td>\n",
       "      <td>70.0</td>\n",
       "      <td>444.0</td>\n",
       "      <td>304.0</td>\n",
       "      <td>461</td>\n",
       "      <td>72.0</td>\n",
       "      <td>24</td>\n",
       "      <td>0.263</td>\n",
       "      <td>0.312</td>\n",
       "      <td>0.366</td>\n",
       "      <td>0.678</td>\n",
       "    </tr>\n",
       "    <tr>\n",
       "      <th>1463</th>\n",
       "      <td>C Widger</td>\n",
       "      <td>C</td>\n",
       "      <td>613.0</td>\n",
       "      <td>1826.0</td>\n",
       "      <td>180.0</td>\n",
       "      <td>435.0</td>\n",
       "      <td>104.0</td>\n",
       "      <td>7.0</td>\n",
       "      <td>55.0</td>\n",
       "      <td>222.0</td>\n",
       "      <td>141.0</td>\n",
       "      <td>384</td>\n",
       "      <td>10.0</td>\n",
       "      <td>9</td>\n",
       "      <td>0.238</td>\n",
       "      <td>0.296</td>\n",
       "      <td>0.393</td>\n",
       "      <td>0.689</td>\n",
       "    </tr>\n",
       "    <tr>\n",
       "      <th>1575</th>\n",
       "      <td>D Ackley</td>\n",
       "      <td>2B</td>\n",
       "      <td>635.0</td>\n",
       "      <td>2125.0</td>\n",
       "      <td>261.0</td>\n",
       "      <td>512.0</td>\n",
       "      <td>94.0</td>\n",
       "      <td>18.0</td>\n",
       "      <td>46.0</td>\n",
       "      <td>216.0</td>\n",
       "      <td>194.0</td>\n",
       "      <td>419</td>\n",
       "      <td>31.0</td>\n",
       "      <td>12</td>\n",
       "      <td>0.241</td>\n",
       "      <td>0.304</td>\n",
       "      <td>0.367</td>\n",
       "      <td>0.671</td>\n",
       "    </tr>\n",
       "    <tr>\n",
       "      <th>394</th>\n",
       "      <td>J Hart</td>\n",
       "      <td>3B</td>\n",
       "      <td>1125.0</td>\n",
       "      <td>3783.0</td>\n",
       "      <td>518.0</td>\n",
       "      <td>1052.0</td>\n",
       "      <td>148.0</td>\n",
       "      <td>29.0</td>\n",
       "      <td>170.0</td>\n",
       "      <td>578.0</td>\n",
       "      <td>380.0</td>\n",
       "      <td>573</td>\n",
       "      <td>17.0</td>\n",
       "      <td>17</td>\n",
       "      <td>0.278</td>\n",
       "      <td>0.345</td>\n",
       "      <td>0.467</td>\n",
       "      <td>0.812</td>\n",
       "    </tr>\n",
       "    <tr>\n",
       "      <th>1233</th>\n",
       "      <td>D Williams</td>\n",
       "      <td>LF</td>\n",
       "      <td>1023.0</td>\n",
       "      <td>2959.0</td>\n",
       "      <td>358.0</td>\n",
       "      <td>768.0</td>\n",
       "      <td>157.0</td>\n",
       "      <td>12.0</td>\n",
       "      <td>70.0</td>\n",
       "      <td>331.0</td>\n",
       "      <td>227.0</td>\n",
       "      <td>392</td>\n",
       "      <td>12.0</td>\n",
       "      <td>21</td>\n",
       "      <td>0.260</td>\n",
       "      <td>0.312</td>\n",
       "      <td>0.392</td>\n",
       "      <td>0.704</td>\n",
       "    </tr>\n",
       "  </tbody>\n",
       "</table>\n",
       "</div>"
      ],
      "text/plain": [
       "     player_name position   games  at_bats   runs    hits  doubles  triples  \\\n",
       "1230   A Simmons       SS  1226.0   4441.0  501.0  1169.0    201.0     23.0   \n",
       "1463    C Widger        C   613.0   1826.0  180.0   435.0    104.0      7.0   \n",
       "1575    D Ackley       2B   635.0   2125.0  261.0   512.0     94.0     18.0   \n",
       "394       J Hart       3B  1125.0   3783.0  518.0  1052.0    148.0     29.0   \n",
       "1233  D Williams       LF  1023.0   2959.0  358.0   768.0    157.0     12.0   \n",
       "\n",
       "      home_runs    RBI  walks  strikeouts  stolen base  caught_stealing  \\\n",
       "1230       70.0  444.0  304.0         461          72.0              24   \n",
       "1463       55.0  222.0  141.0         384          10.0               9   \n",
       "1575       46.0  216.0  194.0         419          31.0              12   \n",
       "394       170.0  578.0  380.0         573          17.0              17   \n",
       "1233       70.0  331.0  227.0         392          12.0              21   \n",
       "\n",
       "        AVG  on_base_%  slugging_%    OPS  \n",
       "1230  0.263      0.312       0.366  0.678  \n",
       "1463  0.238      0.296       0.393  0.689  \n",
       "1575  0.241      0.304       0.367  0.671  \n",
       "394   0.278      0.345       0.467  0.812  \n",
       "1233  0.260      0.312       0.392  0.704  "
      ]
     },
     "execution_count": 31,
     "metadata": {},
     "output_type": "execute_result"
    }
   ],
   "source": [
    "df.sample(5)\n"
   ]
  },
  {
   "cell_type": "code",
   "execution_count": 32,
   "metadata": {},
   "outputs": [],
   "source": [
    "df.to_csv('C:/Users/jason_ef59wex/Projects/sprint4-mlb-hitting/baseball_hitting_pp.csv')"
   ]
  }
 ],
 "metadata": {
  "kernelspec": {
   "display_name": "base",
   "language": "python",
   "name": "python3"
  },
  "language_info": {
   "codemirror_mode": {
    "name": "ipython",
    "version": 3
   },
   "file_extension": ".py",
   "mimetype": "text/x-python",
   "name": "python",
   "nbconvert_exporter": "python",
   "pygments_lexer": "ipython3",
   "version": "3.10.10"
  },
  "orig_nbformat": 4
 },
 "nbformat": 4,
 "nbformat_minor": 2
}
