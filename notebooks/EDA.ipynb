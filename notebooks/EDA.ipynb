{
 "cells": [
  {
   "cell_type": "code",
   "execution_count": 1,
   "metadata": {},
   "outputs": [],
   "source": [
    "import pandas as pd\n",
    "import streamlit as st\n"
   ]
  },
  {
   "cell_type": "code",
   "execution_count": 2,
   "metadata": {},
   "outputs": [],
   "source": [
    "df = pd.read_csv('~/downloads/baseball_hitting.csv')"
   ]
  },
  {
   "cell_type": "code",
   "execution_count": 3,
   "metadata": {},
   "outputs": [
    {
     "name": "stdout",
     "output_type": "stream",
     "text": [
      "       Player name position   Games  At-bat   Runs    Hits  Double (2B)  \\\n",
      "1053   K Kiermaier       CF   916.0  3062.0  411.0   760.0        140.0   \n",
      "270   P Incaviglia       LF  1284.0  4233.0  546.0  1043.0        194.0   \n",
      "767     B Campbell       RF  1360.0  4762.0  759.0  1382.0        295.0   \n",
      "1644      T Joseph       1B   249.0   810.0   98.0   200.0         42.0   \n",
      "1457       R Garko       1B   463.0  1552.0  190.0   427.0         75.0   \n",
      "\n",
      "      third baseman  home run  run batted in  a walk Strikeouts  stolen base   \\\n",
      "1053           51.0      82.0          316.0   236.0        737         112.0   \n",
      "270            21.0     206.0          655.0   360.0       1277          33.0   \n",
      "767            87.0     106.0          766.0   548.0        584          53.0   \n",
      "1644            1.0      43.0          116.0    55.0        204           2.0   \n",
      "1457            3.0      55.0          250.0   125.0        272           0.0   \n",
      "\n",
      "     Caught stealing    AVG  On-base Percentage  Slugging Percentage  \\\n",
      "1053              36  0.248               0.308                0.408   \n",
      "270               26  0.246               0.310                0.448   \n",
      "767               50  0.290               0.367                0.455   \n",
      "1644               1  0.247               0.297                0.460   \n",
      "1457               1  0.275               0.347                0.434   \n",
      "\n",
      "      On-base Plus Slugging  \n",
      "1053                  0.716  \n",
      "270                   0.758  \n",
      "767                   0.822  \n",
      "1644                  0.757  \n",
      "1457                  0.781  \n"
     ]
    }
   ],
   "source": [
    "print(df.sample(5))"
   ]
  },
  {
   "cell_type": "code",
   "execution_count": 4,
   "metadata": {},
   "outputs": [],
   "source": [
    "df = df.rename(columns ={'Player name' : 'player_name', 'At-bat' : 'at_bats', 'Games' : 'games', 'Runs' : 'runs', 'Hits' : 'hits', 'Double (2B)' : 'double', 'third baseman' : 'triple', 'home run': 'home_runs',\n",
    "'run batted in' : 'RBI', 'a walk' : 'walks', 'Strikeouts' : 'strikeouts', 'stolen base' : 'stolen_bases', 'Caught stealing' : 'caught_stealing', 'On-base Percentage' : 'on_base_%', 'Slugging Percentage' : 'slugging_%',\n",
    "'On-base Plus Slugging' : 'OPS'})"
   ]
  },
  {
   "cell_type": "code",
   "execution_count": 5,
   "metadata": {},
   "outputs": [
    {
     "name": "stdout",
     "output_type": "stream",
     "text": [
      "<class 'pandas.core.frame.DataFrame'>\n",
      "RangeIndex: 2508 entries, 0 to 2507\n",
      "Data columns (total 18 columns):\n",
      " #   Column           Non-Null Count  Dtype  \n",
      "---  ------           --------------  -----  \n",
      " 0   player_name      2500 non-null   object \n",
      " 1   position         2500 non-null   object \n",
      " 2   games            2500 non-null   float64\n",
      " 3   at_bats          2500 non-null   float64\n",
      " 4   runs             2500 non-null   float64\n",
      " 5   hits             2500 non-null   float64\n",
      " 6   double           2500 non-null   float64\n",
      " 7   triple           2500 non-null   float64\n",
      " 8   home_runs        2500 non-null   float64\n",
      " 9   RBI              2500 non-null   float64\n",
      " 10  walks            2500 non-null   float64\n",
      " 11  strikeouts       2500 non-null   object \n",
      " 12  stolen base      2500 non-null   float64\n",
      " 13  caught_stealing  2500 non-null   object \n",
      " 14  AVG              2500 non-null   float64\n",
      " 15  on_base_%        2500 non-null   float64\n",
      " 16  slugging_%       2500 non-null   float64\n",
      " 17  OPS              2488 non-null   float64\n",
      "dtypes: float64(14), object(4)\n",
      "memory usage: 352.8+ KB\n"
     ]
    }
   ],
   "source": [
    "df.sample(5)\n",
    "df.info()"
   ]
  },
  {
   "cell_type": "code",
   "execution_count": 6,
   "metadata": {},
   "outputs": [
    {
     "name": "stdout",
     "output_type": "stream",
     "text": [
      "<class 'pandas.core.frame.DataFrame'>\n",
      "Int64Index: 2488 entries, 0 to 2507\n",
      "Data columns (total 18 columns):\n",
      " #   Column           Non-Null Count  Dtype  \n",
      "---  ------           --------------  -----  \n",
      " 0   player_name      2488 non-null   object \n",
      " 1   position         2488 non-null   object \n",
      " 2   games            2488 non-null   float64\n",
      " 3   at_bats          2488 non-null   float64\n",
      " 4   runs             2488 non-null   float64\n",
      " 5   hits             2488 non-null   float64\n",
      " 6   double           2488 non-null   float64\n",
      " 7   triple           2488 non-null   float64\n",
      " 8   home_runs        2488 non-null   float64\n",
      " 9   RBI              2488 non-null   float64\n",
      " 10  walks            2488 non-null   float64\n",
      " 11  strikeouts       2488 non-null   object \n",
      " 12  stolen base      2488 non-null   float64\n",
      " 13  caught_stealing  2488 non-null   object \n",
      " 14  AVG              2488 non-null   float64\n",
      " 15  on_base_%        2488 non-null   float64\n",
      " 16  slugging_%       2488 non-null   float64\n",
      " 17  OPS              2488 non-null   float64\n",
      "dtypes: float64(14), object(4)\n",
      "memory usage: 369.3+ KB\n"
     ]
    }
   ],
   "source": [
    "df.sample(25)\n",
    "df = df.dropna()\n",
    "df.info()"
   ]
  },
  {
   "cell_type": "code",
   "execution_count": 7,
   "metadata": {},
   "outputs": [],
   "source": [
    "import plotly.express as px"
   ]
  },
  {
   "cell_type": "code",
   "execution_count": 8,
   "metadata": {},
   "outputs": [
    {
     "name": "stderr",
     "output_type": "stream",
     "text": [
      "2023-04-16 08:32:13.160 \n",
      "  \u001b[33m\u001b[1mWarning:\u001b[0m to view this Streamlit app on a browser, run it with the following\n",
      "  command:\n",
      "\n",
      "    streamlit run c:\\Users\\jason_ef59wex\\anaconda3\\lib\\site-packages\\ipykernel_launcher.py [ARGUMENTS]\n"
     ]
    },
    {
     "data": {
      "text/plain": [
       "DeltaGenerator(_root_container=0, _provided_cursor=None, _parent=None, _block_type=None, _form_data=None)"
      ]
     },
     "execution_count": 8,
     "metadata": {},
     "output_type": "execute_result"
    }
   ],
   "source": [
    "st.header('This shows hitting stats throughout Mlb history')"
   ]
  },
  {
   "cell_type": "code",
   "execution_count": 9,
   "metadata": {},
   "outputs": [
    {
     "data": {
      "text/plain": [
       "position\n",
       "1B    131.231638\n",
       "2B     70.518382\n",
       "3B    103.144876\n",
       "C      76.520710\n",
       "CF     97.764706\n",
       "DH    193.485714\n",
       "LF    109.701807\n",
       "OF     90.946667\n",
       "P      26.785714\n",
       "RF    123.278351\n",
       "SS     79.243243\n",
       "Name: home_runs, dtype: float64"
      ]
     },
     "execution_count": 9,
     "metadata": {},
     "output_type": "execute_result"
    }
   ],
   "source": [
    "df_hrs = df.groupby('position')['home_runs'].mean()\n",
    "df_hrs"
   ]
  },
  {
   "cell_type": "code",
   "execution_count": 10,
   "metadata": {},
   "outputs": [
    {
     "data": {
      "text/plain": [
       "position\n",
       "1B    196.663842\n",
       "2B    190.705882\n",
       "3B    183.148410\n",
       "C     130.532544\n",
       "CF    191.147059\n",
       "DH    238.628571\n",
       "LF    178.388554\n",
       "OF    175.826667\n",
       "P      58.500000\n",
       "RF    188.852234\n",
       "SS    209.774775\n",
       "Name: double, dtype: float64"
      ]
     },
     "execution_count": 10,
     "metadata": {},
     "output_type": "execute_result"
    }
   ],
   "source": [
    "df_doubles = df.groupby('position')['double'].mean()\n",
    "df_doubles"
   ]
  },
  {
   "cell_type": "code",
   "execution_count": 33,
   "metadata": {},
   "outputs": [
    {
     "data": {
      "text/plain": [
       "DeltaGenerator(_root_container=0, _provided_cursor=None, _parent=None, _block_type=None, _form_data=None)"
      ]
     },
     "execution_count": 33,
     "metadata": {},
     "output_type": "execute_result"
    }
   ],
   "source": [
    "fig = px.histogram(df, x='double', color ='position')\n",
    "st.plotly_chart(fig, theme='streamlit', use_container_width=True)"
   ]
  }
 ],
 "metadata": {
  "kernelspec": {
   "display_name": "base",
   "language": "python",
   "name": "python3"
  },
  "language_info": {
   "codemirror_mode": {
    "name": "ipython",
    "version": 3
   },
   "file_extension": ".py",
   "mimetype": "text/x-python",
   "name": "python",
   "nbconvert_exporter": "python",
   "pygments_lexer": "ipython3",
   "version": "3.10.9"
  },
  "orig_nbformat": 4
 },
 "nbformat": 4,
 "nbformat_minor": 2
}
