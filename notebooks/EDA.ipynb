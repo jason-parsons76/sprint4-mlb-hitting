{
 "cells": [
  {
   "cell_type": "code",
   "execution_count": 7,
   "metadata": {},
   "outputs": [],
   "source": [
    "import pandas as pd\n",
    "import streamlit as st\n"
   ]
  },
  {
   "cell_type": "code",
   "execution_count": 8,
   "metadata": {},
   "outputs": [],
   "source": [
    "df = pd.read_csv('~/downloads/baseball_hitting.csv')"
   ]
  },
  {
   "cell_type": "code",
   "execution_count": 9,
   "metadata": {},
   "outputs": [
    {
     "name": "stdout",
     "output_type": "stream",
     "text": [
      "      Player name position  Games  At-bat   Runs   Hits  Double (2B)  \\\n",
      "1297       L Bell       3B  896.0  3239.0  404.0  938.0        184.0   \n",
      "1743    E Coleman       RF  439.0  1337.0  193.0  381.0         67.0   \n",
      "2261  M de la Hoz       3B  494.0  1114.0  116.0  280.0         42.0   \n",
      "1320     T Grieve       LF  671.0  1907.0  209.0  474.0         76.0   \n",
      "1704     D Varsho       LF  286.0   928.0  138.0  217.0         46.0   \n",
      "\n",
      "      third baseman  home run  run batted in  a walk Strikeouts  stolen base   \\\n",
      "1297           49.0      66.0          509.0   276.0        322          25.0   \n",
      "1743           23.0      40.0          246.0   117.0        152           1.0   \n",
      "2261            5.0      25.0          115.0    56.0        130           2.0   \n",
      "1320           10.0      65.0          254.0   135.0        424           7.0   \n",
      "1704            7.0      41.0          123.0    90.0        250          26.0   \n",
      "\n",
      "     Caught stealing    AVG  On-base Percentage  Slugging Percentage  \\\n",
      "1297               5  0.290               0.346                0.438   \n",
      "1743               3  0.285               0.345                0.459   \n",
      "2261               3  0.251               0.290                0.365   \n",
      "1320               7  0.249               0.301                0.401   \n",
      "1704               7  0.234               0.306                0.431   \n",
      "\n",
      "      On-base Plus Slugging  \n",
      "1297                  0.784  \n",
      "1743                  0.804  \n",
      "2261                  0.655  \n",
      "1320                  0.702  \n",
      "1704                  0.737  \n"
     ]
    }
   ],
   "source": [
    "print(df.sample(5))"
   ]
  },
  {
   "cell_type": "code",
   "execution_count": 11,
   "metadata": {},
   "outputs": [],
   "source": [
    "df = df.rename(columns ={'Player name' : 'player_name', 'At-bat' : 'at_bats', 'Games' : 'games', 'Runs' : 'runs', 'Hits' : 'hits', 'Double (2B)' : 'double', 'third baseman' : 'triple', 'home run': 'home_runs',\n",
    "'run batted in' : 'RBI', 'a walk' : 'walks', 'Strikeouts' : 'strikeouts', 'stolen base' : 'stolen_bases', 'Caught stealing' : 'caught_stealing', 'On-base Percentage' : 'on_base_%', 'Slugging Percentage' : 'slugging_%',\n",
    "'On-base Plus Slugging' : 'OPS'})"
   ]
  },
  {
   "cell_type": "code",
   "execution_count": 13,
   "metadata": {},
   "outputs": [
    {
     "name": "stdout",
     "output_type": "stream",
     "text": [
      "<class 'pandas.core.frame.DataFrame'>\n",
      "RangeIndex: 2508 entries, 0 to 2507\n",
      "Data columns (total 18 columns):\n",
      " #   Column           Non-Null Count  Dtype  \n",
      "---  ------           --------------  -----  \n",
      " 0   player_name      2500 non-null   object \n",
      " 1   position         2500 non-null   object \n",
      " 2   games            2500 non-null   float64\n",
      " 3   at_bats          2500 non-null   float64\n",
      " 4   runs             2500 non-null   float64\n",
      " 5   hits             2500 non-null   float64\n",
      " 6   double           2500 non-null   float64\n",
      " 7   triple           2500 non-null   float64\n",
      " 8   home_runs        2500 non-null   float64\n",
      " 9   RBI              2500 non-null   float64\n",
      " 10  walks            2500 non-null   float64\n",
      " 11  strikeouts       2500 non-null   object \n",
      " 12  stolen base      2500 non-null   float64\n",
      " 13  caught_stealing  2500 non-null   object \n",
      " 14  AVG              2500 non-null   float64\n",
      " 15  on_base_%        2500 non-null   float64\n",
      " 16  slugging_%       2500 non-null   float64\n",
      " 17  OPS              2488 non-null   float64\n",
      "dtypes: float64(14), object(4)\n",
      "memory usage: 352.8+ KB\n"
     ]
    }
   ],
   "source": [
    "df.sample(5)\n",
    "df.info()"
   ]
  },
  {
   "cell_type": "code",
   "execution_count": 30,
   "metadata": {},
   "outputs": [
    {
     "name": "stdout",
     "output_type": "stream",
     "text": [
      "<class 'pandas.core.frame.DataFrame'>\n",
      "Int64Index: 2488 entries, 0 to 2507\n",
      "Data columns (total 18 columns):\n",
      " #   Column           Non-Null Count  Dtype  \n",
      "---  ------           --------------  -----  \n",
      " 0   player_name      2488 non-null   object \n",
      " 1   position         2488 non-null   object \n",
      " 2   games            2488 non-null   float64\n",
      " 3   at_bats          2488 non-null   float64\n",
      " 4   runs             2488 non-null   float64\n",
      " 5   hits             2488 non-null   float64\n",
      " 6   double           2488 non-null   float64\n",
      " 7   triple           2488 non-null   float64\n",
      " 8   home_runs        2488 non-null   float64\n",
      " 9   RBI              2488 non-null   float64\n",
      " 10  walks            2488 non-null   float64\n",
      " 11  strikeouts       2488 non-null   object \n",
      " 12  stolen base      2488 non-null   float64\n",
      " 13  caught_stealing  2488 non-null   object \n",
      " 14  AVG              2488 non-null   float64\n",
      " 15  on_base_%        2488 non-null   float64\n",
      " 16  slugging_%       2488 non-null   float64\n",
      " 17  OPS              2488 non-null   float64\n",
      "dtypes: float64(14), object(4)\n",
      "memory usage: 369.3+ KB\n"
     ]
    }
   ],
   "source": [
    "df.sample(25)\n",
    "df = df.dropna()\n",
    "df.info()"
   ]
  }
 ],
 "metadata": {
  "kernelspec": {
   "display_name": "base",
   "language": "python",
   "name": "python3"
  },
  "language_info": {
   "codemirror_mode": {
    "name": "ipython",
    "version": 3
   },
   "file_extension": ".py",
   "mimetype": "text/x-python",
   "name": "python",
   "nbconvert_exporter": "python",
   "pygments_lexer": "ipython3",
   "version": "3.10.9"
  },
  "orig_nbformat": 4
 },
 "nbformat": 4,
 "nbformat_minor": 2
}
