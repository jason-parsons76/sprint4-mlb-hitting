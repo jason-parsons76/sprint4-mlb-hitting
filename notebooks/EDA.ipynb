{
 "cells": [
  {
   "cell_type": "code",
   "execution_count": 63,
   "metadata": {},
   "outputs": [],
   "source": [
    "import pandas as pd\n",
    "import streamlit as st\n"
   ]
  },
  {
   "cell_type": "code",
   "execution_count": 64,
   "metadata": {},
   "outputs": [],
   "source": [
    "df = pd.read_csv('~/downloads/baseball_hitting.csv')"
   ]
  },
  {
   "cell_type": "code",
   "execution_count": 65,
   "metadata": {},
   "outputs": [
    {
     "name": "stdout",
     "output_type": "stream",
     "text": [
      "     Player name position   Games  At-bat   Runs    Hits  Double (2B)  \\\n",
      "2032    L Skizas       OF   239.0   725.0   80.0   196.0         27.0   \n",
      "1350    B Crosby       SS   747.0  2559.0  329.0   605.0        146.0   \n",
      "691        T Lee       1B  1099.0  3740.0  476.0   958.0        191.0   \n",
      "2238      B Neis       CF   680.0  1825.0  297.0   496.0         84.0   \n",
      "399    P O'Brien       1B  1567.0  5437.0  654.0  1421.0        254.0   \n",
      "\n",
      "      third baseman  home run  run batted in  a walk Strikeouts  stolen base   \\\n",
      "2032            4.0      30.0           86.0    50.0         37           8.0   \n",
      "1350            8.0      62.0          276.0   241.0        516          34.0   \n",
      "691            16.0     115.0          488.0   457.0        704          59.0   \n",
      "2238           18.0      25.0          210.0   201.0        186          46.0   \n",
      "399            21.0     169.0          736.0   641.0        563          24.0   \n",
      "\n",
      "     Caught stealing    AVG  On-base Percentage  Slugging Percentage  \\\n",
      "2032               3  0.270               0.317                0.443   \n",
      "1350              13  0.236               0.304                0.372   \n",
      "691               20  0.256               0.337                0.408   \n",
      "2238              39  0.272               0.346                0.379   \n",
      "399               34  0.261               0.336                0.409   \n",
      "\n",
      "      On-base Plus Slugging  \n",
      "2032                  0.760  \n",
      "1350                  0.676  \n",
      "691                   0.745  \n",
      "2238                  0.725  \n",
      "399                   0.745  \n"
     ]
    }
   ],
   "source": [
    "print(df.sample(5))"
   ]
  },
  {
   "cell_type": "code",
   "execution_count": 66,
   "metadata": {},
   "outputs": [],
   "source": [
    "df = df.rename(columns ={'Player name' : 'player_name', 'At-bat' : 'at_bats', 'Games' : 'games', 'Runs' : 'runs', 'Hits' : 'hits', 'Double (2B)' : 'double', 'third baseman' : 'triple', 'home run': 'home_runs',\n",
    "'run batted in' : 'RBI', 'a walk' : 'walks', 'Strikeouts' : 'strikeouts', 'stolen base' : 'stolen_bases', 'Caught stealing' : 'caught_stealing', 'On-base Percentage' : 'on_base_%', 'Slugging Percentage' : 'slugging_%',\n",
    "'On-base Plus Slugging' : 'OPS'})"
   ]
  },
  {
   "cell_type": "code",
   "execution_count": 67,
   "metadata": {},
   "outputs": [
    {
     "name": "stdout",
     "output_type": "stream",
     "text": [
      "<class 'pandas.core.frame.DataFrame'>\n",
      "RangeIndex: 2508 entries, 0 to 2507\n",
      "Data columns (total 18 columns):\n",
      " #   Column           Non-Null Count  Dtype  \n",
      "---  ------           --------------  -----  \n",
      " 0   player_name      2500 non-null   object \n",
      " 1   position         2500 non-null   object \n",
      " 2   games            2500 non-null   float64\n",
      " 3   at_bats          2500 non-null   float64\n",
      " 4   runs             2500 non-null   float64\n",
      " 5   hits             2500 non-null   float64\n",
      " 6   double           2500 non-null   float64\n",
      " 7   triple           2500 non-null   float64\n",
      " 8   home_runs        2500 non-null   float64\n",
      " 9   RBI              2500 non-null   float64\n",
      " 10  walks            2500 non-null   float64\n",
      " 11  strikeouts       2500 non-null   object \n",
      " 12  stolen base      2500 non-null   float64\n",
      " 13  caught_stealing  2500 non-null   object \n",
      " 14  AVG              2500 non-null   float64\n",
      " 15  on_base_%        2500 non-null   float64\n",
      " 16  slugging_%       2500 non-null   float64\n",
      " 17  OPS              2488 non-null   float64\n",
      "dtypes: float64(14), object(4)\n",
      "memory usage: 352.8+ KB\n"
     ]
    }
   ],
   "source": [
    "df.sample(5)\n",
    "df.info()"
   ]
  },
  {
   "cell_type": "code",
   "execution_count": 68,
   "metadata": {},
   "outputs": [
    {
     "name": "stdout",
     "output_type": "stream",
     "text": [
      "<class 'pandas.core.frame.DataFrame'>\n",
      "Int64Index: 2488 entries, 0 to 2507\n",
      "Data columns (total 18 columns):\n",
      " #   Column           Non-Null Count  Dtype  \n",
      "---  ------           --------------  -----  \n",
      " 0   player_name      2488 non-null   object \n",
      " 1   position         2488 non-null   object \n",
      " 2   games            2488 non-null   float64\n",
      " 3   at_bats          2488 non-null   float64\n",
      " 4   runs             2488 non-null   float64\n",
      " 5   hits             2488 non-null   float64\n",
      " 6   double           2488 non-null   float64\n",
      " 7   triple           2488 non-null   float64\n",
      " 8   home_runs        2488 non-null   float64\n",
      " 9   RBI              2488 non-null   float64\n",
      " 10  walks            2488 non-null   float64\n",
      " 11  strikeouts       2488 non-null   object \n",
      " 12  stolen base      2488 non-null   float64\n",
      " 13  caught_stealing  2488 non-null   object \n",
      " 14  AVG              2488 non-null   float64\n",
      " 15  on_base_%        2488 non-null   float64\n",
      " 16  slugging_%       2488 non-null   float64\n",
      " 17  OPS              2488 non-null   float64\n",
      "dtypes: float64(14), object(4)\n",
      "memory usage: 369.3+ KB\n"
     ]
    }
   ],
   "source": [
    "df.sample(25)\n",
    "df = df.dropna()\n",
    "df.info()"
   ]
  },
  {
   "cell_type": "code",
   "execution_count": 69,
   "metadata": {},
   "outputs": [],
   "source": [
    "import plotly.express as px"
   ]
  },
  {
   "cell_type": "code",
   "execution_count": 70,
   "metadata": {},
   "outputs": [
    {
     "data": {
      "text/plain": [
       "DeltaGenerator(_root_container=0, _provided_cursor=None, _parent=None, _block_type=None, _form_data=None)"
      ]
     },
     "execution_count": 70,
     "metadata": {},
     "output_type": "execute_result"
    }
   ],
   "source": [
    "st.header('This shows hitting stats throughout Mlb history')"
   ]
  },
  {
   "cell_type": "code",
   "execution_count": 83,
   "metadata": {},
   "outputs": [
    {
     "data": {
      "text/plain": [
       "position\n",
       "1B    131.231638\n",
       "2B     70.518382\n",
       "3B    103.144876\n",
       "C      76.520710\n",
       "CF     97.764706\n",
       "DH    193.485714\n",
       "LF    109.701807\n",
       "OF     90.946667\n",
       "P      26.785714\n",
       "RF    123.278351\n",
       "SS     79.243243\n",
       "Name: home_runs, dtype: float64"
      ]
     },
     "execution_count": 83,
     "metadata": {},
     "output_type": "execute_result"
    }
   ],
   "source": [
    "df_hrs = df.groupby('position')['home_runs'].mean()\n",
    "df_hrs"
   ]
  },
  {
   "cell_type": "code",
   "execution_count": 85,
   "metadata": {},
   "outputs": [
    {
     "data": {
      "text/plain": [
       "position\n",
       "1B    196.663842\n",
       "2B    190.705882\n",
       "3B    183.148410\n",
       "C     130.532544\n",
       "CF    191.147059\n",
       "DH    238.628571\n",
       "LF    178.388554\n",
       "OF    175.826667\n",
       "P      58.500000\n",
       "RF    188.852234\n",
       "SS    209.774775\n",
       "Name: double, dtype: float64"
      ]
     },
     "execution_count": 85,
     "metadata": {},
     "output_type": "execute_result"
    }
   ],
   "source": [
    "df_doubles = df.groupby('position')['double'].mean()\n",
    "df_doubles"
   ]
  }
 ],
 "metadata": {
  "kernelspec": {
   "display_name": "base",
   "language": "python",
   "name": "python3"
  },
  "language_info": {
   "codemirror_mode": {
    "name": "ipython",
    "version": 3
   },
   "file_extension": ".py",
   "mimetype": "text/x-python",
   "name": "python",
   "nbconvert_exporter": "python",
   "pygments_lexer": "ipython3",
   "version": "3.10.9"
  },
  "orig_nbformat": 4
 },
 "nbformat": 4,
 "nbformat_minor": 2
}
